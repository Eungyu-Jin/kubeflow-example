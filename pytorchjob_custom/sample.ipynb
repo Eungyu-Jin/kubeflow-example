{
 "cells": [
  {
   "cell_type": "code",
   "execution_count": 1,
   "metadata": {},
   "outputs": [],
   "source": [
    "from kfp import dsl, compiler\n",
    "from kfp import components\n",
    "from kfp import local\n",
    "import kfp\n",
    "local.init(runner=local.DockerRunner())"
   ]
  },
  {
   "cell_type": "code",
   "execution_count": 2,
   "metadata": {},
   "outputs": [
    {
     "name": "stderr",
     "output_type": "stream",
     "text": [
      "/home/blacktangerine/.local/lib/python3.8/site-packages/kfp/dsl/component_decorator.py:119: FutureWarning: Python 3.7 has reached end-of-life. The default base_image used by the @dsl.component decorator will switch from 'python:3.7' to 'python:3.8' on April 23, 2024. To ensure your existing components work with versions of the KFP SDK released after that date, you should provide an explicit base_image argument and ensure your component works as intended on Python 3.8.\n",
      "  return component_factory.create_component_from_func(\n"
     ]
    }
   ],
   "source": [
    "import json\n",
    "from typing import NamedTuple\n",
    "from typing import Dict\n",
    "\n",
    "@dsl.component\n",
    "def create_pytorchjob_task(\n",
    "    worker_num: int = 0\n",
    ") -> NamedTuple('Outputs', [('master_spec', Dict[str, str]), ('worker_spec', Dict[str, str])]):\n",
    "    \"\"\"\n",
    "    Creates pytorch-job worker spec\n",
    "    \"\"\"\n",
    "\n",
    "    master = {\n",
    "        \"replicas\": 1,\n",
    "        \"restartPolicy\": \"OnFailure\",\n",
    "        \"template\": {\n",
    "            \"metadata\": {\n",
    "                \"annotations\": {\n",
    "                    # See https://github.com/kubeflow/website/issues/2011\n",
    "                    \"sidecar.istio.io/inject\": \"false\"\n",
    "                }\n",
    "            },\n",
    "            \"spec\": {\n",
    "                \"containers\": [\n",
    "                    {\n",
    "                        # To override default command\n",
    "                        \"command\": [\n",
    "                          \"python\",\n",
    "                          \"/opt/mnist/src/mnist.py\"\n",
    "                        ],\n",
    "                        \"args\": [\n",
    "                            \"--backend\",\n",
    "                            \"nccl\",\n",
    "                        ],\n",
    "                        # Or, create your own image from\n",
    "                        # https://github.com/kubeflow/pytorch-operator/tree/master/examples/mnist\n",
    "                        \"image\": \"public.ecr.aws/pytorch-samples/pytorch_dist_mnist:latest\",\n",
    "                        \"name\": \"pytorch\",\n",
    "                        \"resources\": {\n",
    "                            \"requests\": {\n",
    "                                \"memory\": \"4Gi\",\n",
    "                                \"cpu\": \"2000m\",\n",
    "                                # Uncomment for GPU\n",
    "                                \"nvidia.com/gpu\": 1,\n",
    "                            },\n",
    "                            \"limits\": {\n",
    "                                \"memory\": \"4Gi\",\n",
    "                                \"cpu\": \"2000m\",\n",
    "                                # Uncomment for GPU\n",
    "                                \"nvidia.com/gpu\": 1,\n",
    "                            },\n",
    "                        },\n",
    "                    }\n",
    "                ],\n",
    "                # If imagePullSecrets required\n",
    "                # \"imagePullSecrets\": [\n",
    "                #     {\"name\": \"image-pull-secret\"},\n",
    "                # ],\n",
    "            },\n",
    "        },\n",
    "    }\n",
    "\n",
    "    worker = {}\n",
    "    if worker_num > 0:\n",
    "        worker = {\n",
    "            \"replicas\": worker_num,\n",
    "            \"restartPolicy\": \"OnFailure\",\n",
    "            \"template\": {\n",
    "                \"metadata\": {\n",
    "                    \"annotations\": {\n",
    "                        \"sidecar.istio.io/inject\": \"false\"\n",
    "                    }\n",
    "                },\n",
    "                \"spec\": {\n",
    "                    \"containers\": [\n",
    "                        {\n",
    "                            \"command\": [\n",
    "                                \"python\",\n",
    "                                \"/opt/mnist/src/mnist.py\"\n",
    "                            ],\n",
    "                            \"args\": [\n",
    "                                \"--backend\",\n",
    "                                \"nccl\",\n",
    "                            ],\n",
    "                            \"image\": \"public.ecr.aws/pytorch-samples/pytorch_dist_mnist:latest\",\n",
    "                            \"name\": \"pytorch\",\n",
    "                            \"resources\": {\n",
    "                                \"requests\": {\n",
    "                                    \"memory\": \"4Gi\",\n",
    "                                    \"cpu\": \"2000m\",\n",
    "                                    # Uncomment for GPU\n",
    "                                    \"nvidia.com/gpu\": 1,\n",
    "                                },\n",
    "                                \"limits\": {\n",
    "                                    \"memory\": \"4Gi\",\n",
    "                                    \"cpu\": \"2000m\",\n",
    "                                    # Uncomment for GPU\n",
    "                                    \"nvidia.com/gpu\": 1,\n",
    "                                },\n",
    "                            },\n",
    "                        }\n",
    "                    ]\n",
    "                },\n",
    "            },\n",
    "        }\n",
    "\n",
    "    output = NamedTuple('Outputs', [('master_spec', Dict[str, str]), ('worker_spec', Dict[str, str])])\n",
    "    return output(master, worker)\n",
    "\n",
    "from kfp.dsl import Input, Output, Artifact, container_component, ContainerSpec\n",
    "@dsl.container_component\n",
    "def pytorchjob_launcher(\n",
    "    name: str, \n",
    "    namespace: str,\n",
    "    master_spec: Dict[str, str],\n",
    "    worker_spec: Dict[str, str],\n",
    "):\n",
    "    return ContainerSpec(\n",
    "        image='easyjin/engine:custom-pytorchjob',\n",
    "        command=['python', '/ml/launch_pytorchjob.py'],\n",
    "        args=[\n",
    "          '--name',                     name,\n",
    "          '--namespace',                namespace,\n",
    "          '--workerSpec',               worker_spec,\n",
    "          '--masterSpec',              master_spec,\n",
    "          '--deleteAfterDone',          'False'\n",
    "        ])\n",
    "\n",
    "\n",
    "@dsl.pipeline(\n",
    "    name=\"launch-kubeflow-pytorchjob\",\n",
    "    description=\"An example to launch pytorch.\",\n",
    ")\n",
    "def mnist_train(\n",
    "    namespace: str = \"easy\",\n",
    "    worker_replicas: int = 1,\n",
    "):\n",
    "    pytorchjob_op = create_pytorchjob_task(worker_num=worker_replicas)\n",
    "    pytorchjob_launcher_op = pytorchjob_launcher(\n",
    "        name=f\"name-pytorchjob-sample\",\n",
    "        namespace=namespace,\n",
    "        master_spec = pytorchjob_op.outputs['master_spec'],\n",
    "        worker_spec = pytorchjob_op.outputs['worker_spec'],\n",
    "    )"
   ]
  },
  {
   "cell_type": "code",
   "execution_count": 3,
   "metadata": {},
   "outputs": [],
   "source": [
    "from kfp import compiler\n",
    "\n",
    "OUTPUT_PACKAGE_PATH = 'mnist_pipeline.yaml'\n",
    "\n",
    "compiler.Compiler().compile(\n",
    "    pipeline_func=mnist_train, \n",
    "    package_path=OUTPUT_PACKAGE_PATH,\n",
    ")"
   ]
  },
  {
   "cell_type": "code",
   "execution_count": 4,
   "metadata": {},
   "outputs": [
    {
     "name": "stderr",
     "output_type": "stream",
     "text": [
      "/home/blacktangerine/.local/lib/python3.8/site-packages/kfp/client/client.py:159: FutureWarning: This client only works with Kubeflow Pipeline v2.0.0-beta.2 and later versions.\n",
      "  warnings.warn(\n"
     ]
    }
   ],
   "source": [
    "import requests\n",
    "\n",
    "USERNAME = \"user@example.com\"\n",
    "PASSWORD = \"12341234\"\n",
    "NAMESPACE = \"kubeflow-user-example-com\"\n",
    "HOST = \"http://localhost:30398\"\n",
    "\n",
    "session = requests.Session()\n",
    "response = session.get(HOST)\n",
    "\n",
    "headers = {\n",
    "    \"Content-Type\": \"application/x-www-form-urlencoded\",\n",
    "}\n",
    "\n",
    "data = {\"login\": USERNAME, \"password\": PASSWORD}\n",
    "session.post(response.url, headers=headers, data=data)\n",
    "\n",
    "session_cookie = session.cookies.get_dict()[\"authservice_session\"]\n",
    "\n",
    "client = kfp.Client(\n",
    "    host=f\"{HOST}/pipeline\", \n",
    "    namespace=NAMESPACE, \n",
    "    cookies=f\"authservice_session={session_cookie}\"\n",
    "    )"
   ]
  },
  {
   "cell_type": "code",
   "execution_count": 5,
   "metadata": {},
   "outputs": [
    {
     "data": {
      "text/html": [
       "<a href=\"http://10.7.202.45:30564/pipeline/#/experiments/details/d3886170-5d9b-4d0d-b2f0-0fe06b030d63\" target=\"_blank\" >Experiment details</a>."
      ],
      "text/plain": [
       "<IPython.core.display.HTML object>"
      ]
     },
     "metadata": {},
     "output_type": "display_data"
    },
    {
     "data": {
      "text/html": [
       "<a href=\"http://10.7.202.45:30564/pipeline/#/runs/details/5f4a71e3-fbc3-4aa9-8fc0-d67a61e62df6\" target=\"_blank\" >Run details</a>."
      ],
      "text/plain": [
       "<IPython.core.display.HTML object>"
      ]
     },
     "metadata": {},
     "output_type": "display_data"
    },
    {
     "data": {
      "text/plain": [
       "RunPipelineResult(run_id=5f4a71e3-fbc3-4aa9-8fc0-d67a61e62df6)"
      ]
     },
     "execution_count": 5,
     "metadata": {},
     "output_type": "execute_result"
    }
   ],
   "source": [
    "client.create_run_from_pipeline_func(\n",
    "    mnist_train, \n",
    "    arguments= {}, \n",
    "    experiment_name = \"example\"\n",
    ")"
   ]
  },
  {
   "cell_type": "code",
   "execution_count": null,
   "metadata": {},
   "outputs": [],
   "source": []
  }
 ],
 "metadata": {
  "kernelspec": {
   "display_name": "Python 3",
   "language": "python",
   "name": "python3"
  },
  "language_info": {
   "codemirror_mode": {
    "name": "ipython",
    "version": 3
   },
   "file_extension": ".py",
   "mimetype": "text/x-python",
   "name": "python",
   "nbconvert_exporter": "python",
   "pygments_lexer": "ipython3",
   "version": "3.8.10"
  }
 },
 "nbformat": 4,
 "nbformat_minor": 2
}
